{
 "cells": [
  {
   "cell_type": "markdown",
   "id": "44492995",
   "metadata": {},
   "source": [
    "# Query the data samples\n",
    "\n",
    "To query the data samples, use your preferred triplestore or run this notebook.\n",
    "\n",
    "Examples of SPARQL queries corresponding to competency questions are available in the [readme](readme.md).\n",
    "\n",
    "## This notebook\n",
    "\n",
    "Add your SPARQL query into `my_query` and run. You might need to format the results. \n",
    "\n",
    "A reasoner is needed to infer the classes and properties relations. The reasoner used here is [OWL-RL](https://github.com/RDFLib/OWL-RL), an extension of the `RDFLib` library. It is rather slow, but it works here for our testing purposes. Note that both the data and the ontology are needed (`g.parse(onto) + g.parse(data)`).\n"
   ]
  },
  {
   "cell_type": "code",
   "execution_count": 5,
   "id": "1dde13ca",
   "metadata": {},
   "outputs": [
    {
     "name": "stdout",
     "output_type": "stream",
     "text": [
      "10 RESULTS\n",
      "\n",
      "\n",
      "(rdflib.term.URIRef('https://ark.dasch.swiss/ark:/72163/1/0112/98n8rU37ReqHEcoHRA1qTAs'),)\n",
      "(rdflib.term.URIRef('https://ark.dasch.swiss/ark:/72163/1/0112/KQCirWs9ScmIxnTjqdX0NQJ'),)\n",
      "(rdflib.term.URIRef('https://ark.dasch.swiss/ark:/72163/1/0112/PtGfuh4kQLq8Lm8ytDzDvwJ'),)\n",
      "(rdflib.term.URIRef('https://ark.dasch.swiss/ark:/72163/1/0112/W680MbbbSx=GTIRz8x2wlgG'),)\n",
      "(rdflib.term.URIRef('https://ark.dasch.swiss/ark:/72163/1/0112/=Wq0ocuLQL=SEAWLZftUaQA'),)\n",
      "(rdflib.term.URIRef('https://ark.dasch.swiss/ark:/72163/1/0112/1J63YIK9So=9iX8taax7vwX'),)\n",
      "(rdflib.term.URIRef('https://ark.dasch.swiss/ark:/72163/1/0112/AMfQd7J7SCSSu6YdxDFtFgo'),)\n",
      "(rdflib.term.URIRef('https://ark.dasch.swiss/ark:/72163/1/0112/ArDEGUfPQ96aPrmdtsJ1wQx'),)\n",
      "(rdflib.term.URIRef('https://ark.dasch.swiss/ark:/72163/1/0112/Jonf26pCSvmqXQIsQ5wBDgl'),)\n",
      "(rdflib.term.URIRef('https://ark.dasch.swiss/ark:/72163/1/0112/L8wGQPkWS5yE8YCZzxUOBAD'),)\n"
     ]
    }
   ],
   "source": [
    "import rdflib\n",
    "import owlrl\n",
    "\n",
    "g = rdflib.Graph()\n",
    "g.parse(\"../onto/geno.ttl\") + g.parse(\"data_GustaveRoud_allBooks_geno1.0.ttl\")\n",
    "\n",
    "owlrl.DeductiveClosure(owlrl.OWLRL_Semantics).expand(g)\n",
    "\n",
    "my_query = \"\"\"\n",
    "prefix geno: <https://w3id.org/geno#>\n",
    "PREFIX roud-oeuvres: <http://www.knora.org/ontology/0112/roud-oeuvres#>\n",
    "PREFIX rdf: <http://www.w3.org/1999/02/22-rdf-syntax-ns#>\n",
    "select ?Diary { \n",
    "\t\n",
    "    ?Diary rdf:type geno:DiaryEntry .\n",
    "    \n",
    "}\n",
    "LIMIT 10\n",
    "\"\"\"\n",
    "\n",
    "qres = g.query(my_query)\n",
    "print(str(len(qres))+\" RESULTS\\n\\n\")\n",
    "for row in qres:\n",
    "    print(row)\n"
   ]
  }
 ],
 "metadata": {
  "kernelspec": {
   "display_name": "Python 3 (ipykernel)",
   "language": "python",
   "name": "python3"
  },
  "language_info": {
   "codemirror_mode": {
    "name": "ipython",
    "version": 3
   },
   "file_extension": ".py",
   "mimetype": "text/x-python",
   "name": "python",
   "nbconvert_exporter": "python",
   "pygments_lexer": "ipython3",
   "version": "3.9.7"
  }
 },
 "nbformat": 4,
 "nbformat_minor": 5
}
