{
 "cells": [
  {
   "cell_type": "markdown",
   "id": "44492995",
   "metadata": {},
   "source": [
    "# Query the data samples\n",
    "\n",
    "To query the data samples, use your preferred triplestore or run this notebook.\n",
    "\n",
    "Examples of SPARQL queries corresponding to competency questions are available in the [readme](readme.md).\n",
    "\n",
    "## This notebook\n",
    "\n",
    "Add your SPARQL query into `my_query` and run. You might need to format the results. \n",
    "\n",
    "A reasoner is needed to infer the classes and properties relations. The reasoner used here is [OWL-RL](https://github.com/RDFLib/OWL-RL), an extension of the `RDFLib` library. It is rather slow, but it works here for our testing purposes. Note that both the data and the ontology are needed (`g.parse(onto) + g.parse(data)`).\n"
   ]
  },
  {
   "cell_type": "code",
   "execution_count": null,
   "id": "2cfbc0ed",
   "metadata": {},
   "outputs": [],
   "source": [
    "### IF RUN LOCALLY (NOT IN BINDER)\n",
    "### In the terminal, before launching the jupyter notebook, in order to avoid kernel mismatch:\n",
    "# python3 -m venv env\n",
    "# source env/bin/activate\n",
    "# pip install ipykernel\n",
    "# python -m ipykernel install --user --name=myenv-kernel\n",
    "# jupyter notebook\n",
    "\n",
    "# Install requirements (can be done here in the notebook)\n",
    "import sys\n",
    "!{sys.executable} -m pip install -r requirements.txt\n",
    "\n"
   ]
  },
  {
   "cell_type": "code",
   "execution_count": null,
   "id": "1dde13ca",
   "metadata": {},
   "outputs": [],
   "source": [
    "import rdflib\n",
    "import owlrl\n",
    "\n",
    "g = rdflib.Graph()\n",
    "g.parse(\"../onto/geno.ttl\") + g.parse(\"data_GustaveRoud_allBooks_geno1.0.ttl\")\n",
    "\n",
    "owlrl.DeductiveClosure(owlrl.OWLRL_Semantics).expand(g)\n",
    "\n",
    "my_query = \"\"\"\n",
    "prefix geno: <https://w3id.org/geno#>\n",
    "PREFIX roud-oeuvres: <http://www.knora.org/ontology/0112/roud-oeuvres#>\n",
    "PREFIX rdf: <http://www.w3.org/1999/02/22-rdf-syntax-ns#>\n",
    "select ?Diary { \n",
    "\t\n",
    "    ?Diary rdf:type geno:DiaryEntry .\n",
    "    \n",
    "}\n",
    "LIMIT 10\n",
    "\"\"\"\n",
    "\n",
    "qres = g.query(my_query)\n",
    "print(str(len(qres))+\" RESULTS\\n\\n\")\n",
    "for row in qres:\n",
    "    print(row)\n"
   ]
  },
  {
   "cell_type": "code",
   "execution_count": null,
   "id": "a045b467-9777-47e8-babc-1b312eb922c4",
   "metadata": {},
   "outputs": [],
   "source": []
  }
 ],
 "metadata": {
  "kernelspec": {
   "display_name": "Python 3 (ipykernel)",
   "language": "python",
   "name": "python3"
  },
  "language_info": {
   "codemirror_mode": {
    "name": "ipython",
    "version": 3
   },
   "file_extension": ".py",
   "mimetype": "text/x-python",
   "name": "python",
   "nbconvert_exporter": "python",
   "pygments_lexer": "ipython3",
   "version": "3.12.3"
  }
 },
 "nbformat": 4,
 "nbformat_minor": 5
}
